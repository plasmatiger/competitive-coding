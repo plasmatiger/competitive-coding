{
 "cells": [
  {
   "cell_type": "code",
   "execution_count": null,
   "metadata": {},
   "outputs": [],
   "source": [
    "def topKFrequent(self, nums: List[int], k: int) -> List[int]:\n",
    "        freqList = [[] for i in range(len(nums) + 1)]\n",
    "        allMap = {}\n",
    "        for num in nums:\n",
    "            allMap[num] = 1 + allMap.get(num, 0)\n",
    "        arr = []\n",
    "        for key, val in allMap.items():\n",
    "            freqList[val].append(key)\n",
    "\n",
    "        output = []\n",
    "        for i in range(len(freqList) - 1, 0, -1):\n",
    "            for num in freqList[i]:\n",
    "                output.append(num)\n",
    "                if len(output) == k:\n",
    "                    return output"
   ]
  }
 ],
 "metadata": {
  "language_info": {
   "name": "python"
  }
 },
 "nbformat": 4,
 "nbformat_minor": 2
}
