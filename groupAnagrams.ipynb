{
 "cells": [
  {
   "cell_type": "code",
   "execution_count": null,
   "metadata": {},
   "outputs": [],
   "source": [
    "from typing import List"
   ]
  },
  {
   "cell_type": "code",
   "execution_count": null,
   "metadata": {},
   "outputs": [],
   "source": [
    "def groupAnagrams(strs: List[str]) -> List[List[str]]:\n",
    "        strMap = {}\n",
    "        for stri in strs:\n",
    "            print(stri)\n",
    "            keyArray = [0]*26\n",
    "            for char in stri:\n",
    "                keyArray[ord(char)-96] += 1\n",
    "            tupleKeyArray = tuple(keyArray)\n",
    "            if tupleKeyArray in strMap.keys():\n",
    "                print(\"old->\", stri)\n",
    "                oldList = strMap[tupleKeyArray]\n",
    "                print(oldList)\n",
    "                newList = oldList+ [stri]\n",
    "                print(newList)\n",
    "                strMap[tupleKeyArray] = newList\n",
    "            else:\n",
    "                print(\"new->\", stri)\n",
    "                strMap[tupleKeyArray] = [stri]\n",
    "        return strMap.values()"
   ]
  },
  {
   "cell_type": "code",
   "execution_count": null,
   "metadata": {},
   "outputs": [],
   "source": [
    "strs = [\"act\",\"pots\",\"tops\",\"cat\",\"stop\"]"
   ]
  },
  {
   "cell_type": "code",
   "execution_count": null,
   "metadata": {},
   "outputs": [],
   "source": [
    "final = groupAnagrams(strs)"
   ]
  }
 ],
 "metadata": {
  "language_info": {
   "name": "python"
  }
 },
 "nbformat": 4,
 "nbformat_minor": 2
}
